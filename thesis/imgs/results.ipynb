{
 "cells": [
  {
   "cell_type": "code",
   "execution_count": null,
   "metadata": {
    "collapsed": false
   },
   "outputs": [],
   "source": [
    "import numpy as np\n",
    "import matplotlib.pyplot as plt\n",
    "\n",
    "%matplotlib inline"
   ]
  },
  {
   "cell_type": "code",
   "execution_count": null,
   "metadata": {
    "collapsed": true
   },
   "outputs": [],
   "source": [
    "def plot_line(ax, x, dataset, key):\n",
    "    y = np.array(dataset[key]).astype(np.double)\n",
    "    mask = np.isfinite(y)\n",
    "    ax.plot(x[mask], y[mask], linestyle=\"-\", marker=\"o\", markeredgewidth=0.0, label=\"dummy\")"
   ]
  },
  {
   "cell_type": "code",
   "execution_count": null,
   "metadata": {
    "collapsed": true
   },
   "outputs": [],
   "source": [
    "phone_acc_skoda = {\n",
    "    \"mlp\": [79.99, 80.15, 79.63, 81.06],\n",
    "    \"lstm\": [76.45, 78.17, 67.10, 79.56],\n",
    "    \"gru\": [72.84, 73.49, 73.12, 77.65],\n",
    "    \"ctclstm\": [92.97, 93.34, 93.03, 93.70],\n",
    "    \"batchctclstm\": [63.04, 68.58, 65.28, 70.80],\n",
    "    \"batchctcbilstm\": [72.31, 72.74, 72.19, 75.19]\n",
    "}\n",
    "\n",
    "phone_acc_speechdat = {\n",
    "    \"mlp\": [68.65, None, 68.92, 69.88],\n",
    "    \"lstm\": [None, None, 62.87, 68.80],\n",
    "    \"gru\": [None, None, 59.86, 65.53],\n",
    "    \"ctclstm\": [81.22, 82.11, 80.42, 83.23],\n",
    "    \"batchctclstm\": [58.32, 60.87, 60.05, 63.81],\n",
    "    \"batchctcbilstm\": [62.42, 66.81, 63.42, 67.87]\n",
    "}\n",
    "\n",
    "x = np.arange(4)\n",
    "\n",
    "labels = [\"LFE\", r\"LFE $\\Delta\\Delta$\", \"MFCC\", r\"MFCC $\\Delta\\Delta$\"]"
   ]
  },
  {
   "cell_type": "code",
   "execution_count": null,
   "metadata": {
    "collapsed": false,
    "scrolled": false
   },
   "outputs": [],
   "source": [
    "SKODA = False\n",
    "\n",
    "if SKODA:\n",
    "    phone_acc = phone_acc_skoda\n",
    "    file = \"skoda\"\n",
    "else:\n",
    "    phone_acc = phone_acc_speechdat\n",
    "    file = \"speechdat\"\n",
    "\n",
    "plt.rc(\"text\", usetex=True)\n",
    "\n",
    "fig, ax = plt.subplots(figsize=(7, 5))\n",
    "plot_line(ax, x, phone_acc, \"mlp\")\n",
    "plot_line(ax, x, phone_acc, \"lstm\")\n",
    "plot_line(ax, x, phone_acc, \"gru\")\n",
    "plot_line(ax, x, phone_acc, \"ctclstm\")\n",
    "plot_line(ax, x, phone_acc, \"batchctclstm\")\n",
    "plot_line(ax, x, phone_acc, \"batchctcbilstm\")\n",
    "\n",
    "ax.set_xticks(x)\n",
    "ax.set_xticklabels(labels)\n",
    "\n",
    "handles, _ = ax.get_legend_handles_labels()\n",
    "lgd = ax.legend(handles,\n",
    "                [\"dopredna\", \"LSTM\", \"GRU\", \"obousmerna CTC LSTM\",\n",
    "                 \"obousmerna CTC LSTM\", \"davkova CTC LSTM\",\n",
    "                 \"obousmerna\\ndavkova CTC LSTM\"],\n",
    "                loc=\"center left\", bbox_to_anchor=(1, 0.5))\n",
    "\n",
    "plt.ylabel(\"phoneAcc [\\%]\")\n",
    "plt.xlim([-0.5, 3.5])\n",
    "plt.ylim([55, 100])\n",
    "fig.savefig(file + \"_results.eps\", format=\"eps\", dpi=1000, bbox_extra_artists=(lgd,), bbox_inches=\"tight\")\n",
    "plt.show()"
   ]
  },
  {
   "cell_type": "code",
   "execution_count": null,
   "metadata": {
    "collapsed": true
   },
   "outputs": [],
   "source": []
  }
 ],
 "metadata": {
  "kernelspec": {
   "display_name": "Python 2",
   "language": "python",
   "name": "python2"
  },
  "language_info": {
   "codemirror_mode": {
    "name": "ipython",
    "version": 2
   },
   "file_extension": ".py",
   "mimetype": "text/x-python",
   "name": "python",
   "nbconvert_exporter": "python",
   "pygments_lexer": "ipython2",
   "version": "2.7.12"
  }
 },
 "nbformat": 4,
 "nbformat_minor": 0
}
