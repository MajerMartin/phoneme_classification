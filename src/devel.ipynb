{
 "cells": [
  {
   "cell_type": "code",
   "execution_count": null,
   "metadata": {
    "collapsed": false
   },
   "outputs": [],
   "source": [
    "import os\n",
    "from lib.feeders import RNNFeeder, MLPFeeder\n",
    "from lib.decoders import LanguageModel, Decoder\n",
    "from lib.models import BaseModel\n",
    "\n",
    "%load_ext autoreload\n",
    "%autoreload 2"
   ]
  },
  {
   "cell_type": "code",
   "execution_count": null,
   "metadata": {
    "collapsed": false
   },
   "outputs": [],
   "source": [
    "feeder = MLPFeeder(\"../data/features/SkodaAuto_25_10_log_filterbank_energies.hdf5\")\n",
    "\n",
    "feeder.remove_tmp_storage()\n",
    "feeder.create_datasets((0.75, 0.5), left_context=10, right_context=5, sample=[3, 3, 3])"
   ]
  },
  {
   "cell_type": "code",
   "execution_count": null,
   "metadata": {
    "collapsed": false
   },
   "outputs": [],
   "source": [
    "feeder = RNNFeeder(\"../data/features/SkodaAuto_25_10_log_filterbank_energies.hdf5\")\n",
    "\n",
    "feeder.remove_tmp_storage()\n",
    "feeder.create_datasets((0.75, 0.5), 10, left_context=0, right_context=0, sample=[5, 5, 2])"
   ]
  },
  {
   "cell_type": "code",
   "execution_count": null,
   "metadata": {
    "collapsed": false
   },
   "outputs": [],
   "source": [
    "from keras.models import Sequential\n",
    "from keras.layers import Dense, Dropout\n",
    "\n",
    "\n",
    "class Model(BaseModel):\n",
    "    def __init__(self, *args, **kwargs):\n",
    "        super(Model, self).__init__(*args, **kwargs)\n",
    "\n",
    "    def _compile_model(self):\n",
    "        model = Sequential()\n",
    "        model.add(Dense(units=1028, input_dim=self.input_shape, activation=\"relu\"))\n",
    "        model.add(Dropout(0.5))\n",
    "        model.add(Dense(units=64, input_dim=1028, activation=\"relu\"))\n",
    "        model.add(Dropout(0.5))\n",
    "        model.add(Dense(units=1028, input_dim=64, activation=\"relu\"))\n",
    "        model.add(Dropout(0.5))\n",
    "\n",
    "        model.add(Dense(units=self.output_shape, activation=\"softmax\"))\n",
    "        \n",
    "        model.compile(loss=\"categorical_crossentropy\", optimizer=\"sgd\", metrics=[\"accuracy\"])\n",
    "\n",
    "        return model"
   ]
  },
  {
   "cell_type": "code",
   "execution_count": null,
   "metadata": {
    "collapsed": false
   },
   "outputs": [],
   "source": [
    "from keras.models import Sequential\n",
    "from keras.layers import GRU, Dense\n",
    "\n",
    "\n",
    "class Model(BaseModel):\n",
    "    def __init__(self, *args, **kwargs):\n",
    "        super(Model, self).__init__(*args, **kwargs)\n",
    "\n",
    "    def _compile_model(self):\n",
    "        model = Sequential()\n",
    "        model.add(GRU(128, dropout=0.25, recurrent_dropout=0.25, return_sequences=True, input_shape=self.input_shape))\n",
    "        model.add(GRU(128, dropout=0.25, recurrent_dropout=0.25))\n",
    "        model.add(Dense(self.output_shape, activation=\"softmax\"))\n",
    "\n",
    "        model.compile(loss=\"categorical_crossentropy\", optimizer=\"rmsprop\", metrics=[\"accuracy\"])\n",
    "\n",
    "        return model"
   ]
  },
  {
   "cell_type": "code",
   "execution_count": null,
   "metadata": {
    "collapsed": false,
    "scrolled": false
   },
   "outputs": [],
   "source": [
    "model = Model(feeder, 2, 32, [\"modelCheckpoint\", \"tensorboard\", \"batchPrint\", \"reduceLROnPlateau\"])\n",
    "#model.load_weights()\n",
    "model.train()\n",
    "predictions, transcriptions = model.predict()\n",
    "model.evaluate()"
   ]
  },
  {
   "cell_type": "code",
   "execution_count": null,
   "metadata": {
    "collapsed": true
   },
   "outputs": [],
   "source": [
    "features_name = os.path.splitext(os.path.basename(feeder.features_path))[0]\n",
    "model_name = model.__class__.__name__\n",
    "\n",
    "results_dir = os.path.join(\"..\", \"results\", features_name, model_name)\n",
    "\n",
    "if not os.path.exists(results_dir):\n",
    "    os.makedirs(results_dir)\n",
    "\n",
    "pred_path = os.path.join(results_dir, \"pred.mlf\")\n",
    "ref_path = os.path.join(results_dir, \"ref.mlf\")\n",
    "phonemes_path = os.path.join(results_dir, \"phonemes\")"
   ]
  },
  {
   "cell_type": "code",
   "execution_count": null,
   "metadata": {
    "collapsed": false,
    "scrolled": true
   },
   "outputs": [],
   "source": [
    "ngram = 2\n",
    "is_bigram = ngram == 2\n",
    "\n",
    "languageModel = LanguageModel(feeder)\n",
    "language_model = languageModel.create_model(ngram=ngram)\n",
    "\n",
    "decoder = Decoder(feeder, language_model, is_bigram)\n",
    "\n",
    "with open(pred_path, \"w\") as fw_pred, open(ref_path, \"w\") as fw_ref:\n",
    "    fw_pred.write(\"#!MLF!#\\n\")\n",
    "    fw_ref.write(\"#!MLF!#\\n\")\n",
    "\n",
    "    for i, (observations, transcription) in enumerate(zip(predictions, transcriptions)):\n",
    "        decoded_transcription = decoder.decode(observations)\n",
    "\n",
    "        fw_pred.write('\"*/{}.rec\"\\n'.format(i))\n",
    "        fw_ref.write('\"*/{}.lab\"\\n'.format(i))\n",
    "\n",
    "        fw_pred.write(\"\\n\".join(decoded_transcription))\n",
    "        fw_ref.write(\"\\n\".join(transcription))\n",
    "\n",
    "        fw_pred.write(\"\\n.\\n\")\n",
    "        fw_ref.write(\"\\n.\\n\")\n",
    "        \n",
    "        print(\"Decoded:\")\n",
    "        print(decoded_transcription)\n",
    "        print()\n",
    "        print(\"Ground Truth:\")\n",
    "        print(list(transcription))\n",
    "        print()\n",
    "\n",
    "with open(phonemes_path, \"w\") as fw:\n",
    "    fw.write(\"\\n\".join(feeder.encoder.classes_))"
   ]
  },
  {
   "cell_type": "code",
   "execution_count": null,
   "metadata": {
    "collapsed": false
   },
   "outputs": [],
   "source": [
    "from subprocess import check_output\n",
    "\n",
    "command = \"HResults -I {} {} {}\".format(ref_path, phonemes_path, pred_path)\n",
    "\n",
    "for line in check_output(command.split(\" \")).decode().split(\"\\n\"):\n",
    "    print(line)"
   ]
  },
  {
   "cell_type": "code",
   "execution_count": null,
   "metadata": {
    "collapsed": true
   },
   "outputs": [],
   "source": [
    "feeder.remove_tmp_storage()"
   ]
  }
 ],
 "metadata": {
  "kernelspec": {
   "display_name": "Python 3",
   "language": "python",
   "name": "python3"
  },
  "language_info": {
   "codemirror_mode": {
    "name": "ipython",
    "version": 3
   },
   "file_extension": ".py",
   "mimetype": "text/x-python",
   "name": "python",
   "nbconvert_exporter": "python",
   "pygments_lexer": "ipython3",
   "version": "3.4.5"
  }
 },
 "nbformat": 4,
 "nbformat_minor": 0
}
